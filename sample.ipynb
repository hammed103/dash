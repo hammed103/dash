{
 "cells": [
  {
   "cell_type": "code",
   "execution_count": 1,
   "metadata": {},
   "outputs": [],
   "source": [
    "import numpy as np\n",
    "import pandas as pd\n",
    "import seaborn as sns \n",
    "%matplotlib inline"
   ]
  },
  {
   "cell_type": "code",
   "execution_count": 3,
   "metadata": {},
   "outputs": [
    {
     "name": "stdout",
     "output_type": "stream",
     "text": [
      "(591665, 14)\n"
     ]
    }
   ],
   "source": [
    "df= pd.read_csv('C:/Users/Techa/streamlitdemo/dash/concat.csv')\n",
    "print(df.shape)"
   ]
  },
  {
   "cell_type": "code",
   "execution_count": 8,
   "metadata": {},
   "outputs": [
    {
     "data": {
      "text/html": [
       "<div>\n",
       "<style scoped>\n",
       "    .dataframe tbody tr th:only-of-type {\n",
       "        vertical-align: middle;\n",
       "    }\n",
       "\n",
       "    .dataframe tbody tr th {\n",
       "        vertical-align: top;\n",
       "    }\n",
       "\n",
       "    .dataframe thead th {\n",
       "        text-align: right;\n",
       "    }\n",
       "</style>\n",
       "<table border=\"1\" class=\"dataframe\">\n",
       "  <thead>\n",
       "    <tr style=\"text-align: right;\">\n",
       "      <th></th>\n",
       "      <th>Date</th>\n",
       "      <th>ArtistName</th>\n",
       "      <th>ArtistId</th>\n",
       "      <th>Country</th>\n",
       "      <th>listeners</th>\n",
       "      <th>streams</th>\n",
       "      <th>streams_per_listener</th>\n",
       "      <th>saves</th>\n",
       "      <th>playlist_adds</th>\n",
       "      <th>followers</th>\n",
       "      <th>Total active audience</th>\n",
       "      <th>Super listeners</th>\n",
       "      <th>Moderate listeners</th>\n",
       "      <th>Light listeners</th>\n",
       "    </tr>\n",
       "  </thead>\n",
       "  <tbody>\n",
       "    <tr>\n",
       "      <th>0</th>\n",
       "      <td>2023-06-19</td>\n",
       "      <td>11:11 Music Group</td>\n",
       "      <td>2MDj296KJIfgWDNBtHzeFi</td>\n",
       "      <td>AZ</td>\n",
       "      <td>297.0</td>\n",
       "      <td>558.0</td>\n",
       "      <td>1.878788</td>\n",
       "      <td>25.0</td>\n",
       "      <td>20.0</td>\n",
       "      <td>11.0</td>\n",
       "      <td>2279.0</td>\n",
       "      <td>69.0</td>\n",
       "      <td>681.0</td>\n",
       "      <td>1529.0</td>\n",
       "    </tr>\n",
       "    <tr>\n",
       "      <th>1</th>\n",
       "      <td>2023-06-19</td>\n",
       "      <td>11:11 Music Group</td>\n",
       "      <td>2MDj296KJIfgWDNBtHzeFi</td>\n",
       "      <td>BO</td>\n",
       "      <td>697.0</td>\n",
       "      <td>1128.0</td>\n",
       "      <td>1.618364</td>\n",
       "      <td>54.0</td>\n",
       "      <td>22.0</td>\n",
       "      <td>16.0</td>\n",
       "      <td>5028.0</td>\n",
       "      <td>222.0</td>\n",
       "      <td>1674.0</td>\n",
       "      <td>3132.0</td>\n",
       "    </tr>\n",
       "    <tr>\n",
       "      <th>2</th>\n",
       "      <td>2023-06-19</td>\n",
       "      <td>11:11 Music Group</td>\n",
       "      <td>2MDj296KJIfgWDNBtHzeFi</td>\n",
       "      <td>IS</td>\n",
       "      <td>206.0</td>\n",
       "      <td>436.0</td>\n",
       "      <td>2.116505</td>\n",
       "      <td>4.0</td>\n",
       "      <td>5.0</td>\n",
       "      <td>3.0</td>\n",
       "      <td>2058.0</td>\n",
       "      <td>120.0</td>\n",
       "      <td>725.0</td>\n",
       "      <td>1213.0</td>\n",
       "    </tr>\n",
       "    <tr>\n",
       "      <th>3</th>\n",
       "      <td>2023-06-19</td>\n",
       "      <td>11:11 Music Group</td>\n",
       "      <td>2MDj296KJIfgWDNBtHzeFi</td>\n",
       "      <td>SR</td>\n",
       "      <td>36.0</td>\n",
       "      <td>54.0</td>\n",
       "      <td>1.500000</td>\n",
       "      <td>4.0</td>\n",
       "      <td>0.0</td>\n",
       "      <td>4.0</td>\n",
       "      <td>248.0</td>\n",
       "      <td>11.0</td>\n",
       "      <td>90.0</td>\n",
       "      <td>147.0</td>\n",
       "    </tr>\n",
       "    <tr>\n",
       "      <th>4</th>\n",
       "      <td>2023-06-19</td>\n",
       "      <td>11:11 Music Group</td>\n",
       "      <td>2MDj296KJIfgWDNBtHzeFi</td>\n",
       "      <td>LS</td>\n",
       "      <td>1.0</td>\n",
       "      <td>1.0</td>\n",
       "      <td>1.000000</td>\n",
       "      <td>0.0</td>\n",
       "      <td>0.0</td>\n",
       "      <td>1.0</td>\n",
       "      <td>28.0</td>\n",
       "      <td>2.0</td>\n",
       "      <td>10.0</td>\n",
       "      <td>16.0</td>\n",
       "    </tr>\n",
       "  </tbody>\n",
       "</table>\n",
       "</div>"
      ],
      "text/plain": [
       "         Date         ArtistName                ArtistId Country  listeners  \\\n",
       "0  2023-06-19  11:11 Music Group  2MDj296KJIfgWDNBtHzeFi      AZ      297.0   \n",
       "1  2023-06-19  11:11 Music Group  2MDj296KJIfgWDNBtHzeFi      BO      697.0   \n",
       "2  2023-06-19  11:11 Music Group  2MDj296KJIfgWDNBtHzeFi      IS      206.0   \n",
       "3  2023-06-19  11:11 Music Group  2MDj296KJIfgWDNBtHzeFi      SR       36.0   \n",
       "4  2023-06-19  11:11 Music Group  2MDj296KJIfgWDNBtHzeFi      LS        1.0   \n",
       "\n",
       "   streams  streams_per_listener  saves  playlist_adds  followers  \\\n",
       "0    558.0              1.878788   25.0           20.0       11.0   \n",
       "1   1128.0              1.618364   54.0           22.0       16.0   \n",
       "2    436.0              2.116505    4.0            5.0        3.0   \n",
       "3     54.0              1.500000    4.0            0.0        4.0   \n",
       "4      1.0              1.000000    0.0            0.0        1.0   \n",
       "\n",
       "   Total active audience  Super listeners  Moderate listeners  Light listeners  \n",
       "0                 2279.0             69.0               681.0           1529.0  \n",
       "1                 5028.0            222.0              1674.0           3132.0  \n",
       "2                 2058.0            120.0               725.0           1213.0  \n",
       "3                  248.0             11.0                90.0            147.0  \n",
       "4                   28.0              2.0                10.0             16.0  "
      ]
     },
     "execution_count": 8,
     "metadata": {},
     "output_type": "execute_result"
    }
   ],
   "source": [
    "df.head()"
   ]
  },
  {
   "cell_type": "code",
   "execution_count": 14,
   "metadata": {},
   "outputs": [
    {
     "name": "stderr",
     "output_type": "stream",
     "text": [
      "C:\\Users\\Techa\\AppData\\Local\\Temp\\ipykernel_13144\\1095316203.py:1: UserWarning: The argument 'infer_datetime_format' is deprecated and will be removed in a future version. A strict version of it is now the default, see https://pandas.pydata.org/pdeps/0004-consistent-to-datetime-parsing.html. You can safely remove this argument.\n",
      "  df['Date'] = pd.to_datetime(df['Date'], infer_datetime_format=True)\n"
     ]
    }
   ],
   "source": [
    "df['Date'] = pd.to_datetime(df['Date'], infer_datetime_format=True)\n",
    "df['Month']= df['Date'].dt.month"
   ]
  },
  {
   "cell_type": "code",
   "execution_count": 15,
   "metadata": {},
   "outputs": [
    {
     "data": {
      "text/html": [
       "<div>\n",
       "<style scoped>\n",
       "    .dataframe tbody tr th:only-of-type {\n",
       "        vertical-align: middle;\n",
       "    }\n",
       "\n",
       "    .dataframe tbody tr th {\n",
       "        vertical-align: top;\n",
       "    }\n",
       "\n",
       "    .dataframe thead th {\n",
       "        text-align: right;\n",
       "    }\n",
       "</style>\n",
       "<table border=\"1\" class=\"dataframe\">\n",
       "  <thead>\n",
       "    <tr style=\"text-align: right;\">\n",
       "      <th></th>\n",
       "      <th>Date</th>\n",
       "      <th>ArtistName</th>\n",
       "      <th>ArtistId</th>\n",
       "      <th>Country</th>\n",
       "      <th>listeners</th>\n",
       "      <th>streams</th>\n",
       "      <th>streams_per_listener</th>\n",
       "      <th>saves</th>\n",
       "      <th>playlist_adds</th>\n",
       "      <th>followers</th>\n",
       "      <th>Total active audience</th>\n",
       "      <th>Super listeners</th>\n",
       "      <th>Moderate listeners</th>\n",
       "      <th>Light listeners</th>\n",
       "      <th>Month</th>\n",
       "    </tr>\n",
       "  </thead>\n",
       "  <tbody>\n",
       "    <tr>\n",
       "      <th>0</th>\n",
       "      <td>2023-06-19</td>\n",
       "      <td>11:11 Music Group</td>\n",
       "      <td>2MDj296KJIfgWDNBtHzeFi</td>\n",
       "      <td>AZ</td>\n",
       "      <td>297.0</td>\n",
       "      <td>558.0</td>\n",
       "      <td>1.878788</td>\n",
       "      <td>25.0</td>\n",
       "      <td>20.0</td>\n",
       "      <td>11.0</td>\n",
       "      <td>2279.0</td>\n",
       "      <td>69.0</td>\n",
       "      <td>681.0</td>\n",
       "      <td>1529.0</td>\n",
       "      <td>6</td>\n",
       "    </tr>\n",
       "    <tr>\n",
       "      <th>1</th>\n",
       "      <td>2023-06-19</td>\n",
       "      <td>11:11 Music Group</td>\n",
       "      <td>2MDj296KJIfgWDNBtHzeFi</td>\n",
       "      <td>BO</td>\n",
       "      <td>697.0</td>\n",
       "      <td>1128.0</td>\n",
       "      <td>1.618364</td>\n",
       "      <td>54.0</td>\n",
       "      <td>22.0</td>\n",
       "      <td>16.0</td>\n",
       "      <td>5028.0</td>\n",
       "      <td>222.0</td>\n",
       "      <td>1674.0</td>\n",
       "      <td>3132.0</td>\n",
       "      <td>6</td>\n",
       "    </tr>\n",
       "    <tr>\n",
       "      <th>2</th>\n",
       "      <td>2023-06-19</td>\n",
       "      <td>11:11 Music Group</td>\n",
       "      <td>2MDj296KJIfgWDNBtHzeFi</td>\n",
       "      <td>IS</td>\n",
       "      <td>206.0</td>\n",
       "      <td>436.0</td>\n",
       "      <td>2.116505</td>\n",
       "      <td>4.0</td>\n",
       "      <td>5.0</td>\n",
       "      <td>3.0</td>\n",
       "      <td>2058.0</td>\n",
       "      <td>120.0</td>\n",
       "      <td>725.0</td>\n",
       "      <td>1213.0</td>\n",
       "      <td>6</td>\n",
       "    </tr>\n",
       "    <tr>\n",
       "      <th>3</th>\n",
       "      <td>2023-06-19</td>\n",
       "      <td>11:11 Music Group</td>\n",
       "      <td>2MDj296KJIfgWDNBtHzeFi</td>\n",
       "      <td>SR</td>\n",
       "      <td>36.0</td>\n",
       "      <td>54.0</td>\n",
       "      <td>1.500000</td>\n",
       "      <td>4.0</td>\n",
       "      <td>0.0</td>\n",
       "      <td>4.0</td>\n",
       "      <td>248.0</td>\n",
       "      <td>11.0</td>\n",
       "      <td>90.0</td>\n",
       "      <td>147.0</td>\n",
       "      <td>6</td>\n",
       "    </tr>\n",
       "    <tr>\n",
       "      <th>4</th>\n",
       "      <td>2023-06-19</td>\n",
       "      <td>11:11 Music Group</td>\n",
       "      <td>2MDj296KJIfgWDNBtHzeFi</td>\n",
       "      <td>LS</td>\n",
       "      <td>1.0</td>\n",
       "      <td>1.0</td>\n",
       "      <td>1.000000</td>\n",
       "      <td>0.0</td>\n",
       "      <td>0.0</td>\n",
       "      <td>1.0</td>\n",
       "      <td>28.0</td>\n",
       "      <td>2.0</td>\n",
       "      <td>10.0</td>\n",
       "      <td>16.0</td>\n",
       "      <td>6</td>\n",
       "    </tr>\n",
       "  </tbody>\n",
       "</table>\n",
       "</div>"
      ],
      "text/plain": [
       "        Date         ArtistName                ArtistId Country  listeners  \\\n",
       "0 2023-06-19  11:11 Music Group  2MDj296KJIfgWDNBtHzeFi      AZ      297.0   \n",
       "1 2023-06-19  11:11 Music Group  2MDj296KJIfgWDNBtHzeFi      BO      697.0   \n",
       "2 2023-06-19  11:11 Music Group  2MDj296KJIfgWDNBtHzeFi      IS      206.0   \n",
       "3 2023-06-19  11:11 Music Group  2MDj296KJIfgWDNBtHzeFi      SR       36.0   \n",
       "4 2023-06-19  11:11 Music Group  2MDj296KJIfgWDNBtHzeFi      LS        1.0   \n",
       "\n",
       "   streams  streams_per_listener  saves  playlist_adds  followers  \\\n",
       "0    558.0              1.878788   25.0           20.0       11.0   \n",
       "1   1128.0              1.618364   54.0           22.0       16.0   \n",
       "2    436.0              2.116505    4.0            5.0        3.0   \n",
       "3     54.0              1.500000    4.0            0.0        4.0   \n",
       "4      1.0              1.000000    0.0            0.0        1.0   \n",
       "\n",
       "   Total active audience  Super listeners  Moderate listeners  \\\n",
       "0                 2279.0             69.0               681.0   \n",
       "1                 5028.0            222.0              1674.0   \n",
       "2                 2058.0            120.0               725.0   \n",
       "3                  248.0             11.0                90.0   \n",
       "4                   28.0              2.0                10.0   \n",
       "\n",
       "   Light listeners  Month  \n",
       "0           1529.0      6  \n",
       "1           3132.0      6  \n",
       "2           1213.0      6  \n",
       "3            147.0      6  \n",
       "4             16.0      6  "
      ]
     },
     "execution_count": 15,
     "metadata": {},
     "output_type": "execute_result"
    }
   ],
   "source": [
    "df.head()"
   ]
  },
  {
   "cell_type": "code",
   "execution_count": 24,
   "metadata": {},
   "outputs": [
    {
     "data": {
      "text/plain": [
       "Month\n",
       "1     268541266.0\n",
       "2     236506280.0\n",
       "3     257233584.0\n",
       "4     222833959.0\n",
       "5     232199364.0\n",
       "6     160946531.0\n",
       "7      70443567.0\n",
       "8     106649036.0\n",
       "9     144533057.0\n",
       "10    179727973.0\n",
       "11    191318594.0\n",
       "12    207305822.0\n",
       "Name: streams, dtype: float64"
      ]
     },
     "execution_count": 24,
     "metadata": {},
     "output_type": "execute_result"
    }
   ],
   "source": [
    "df.groupby('Month')['streams'].sum()"
   ]
  },
  {
   "cell_type": "code",
   "execution_count": 19,
   "metadata": {},
   "outputs": [
    {
     "data": {
      "text/plain": [
       "<Axes: xlabel='Month', ylabel='streams'>"
      ]
     },
     "execution_count": 19,
     "metadata": {},
     "output_type": "execute_result"
    },
    {
     "data": {
      "image/png": "[encoded data removed]",
      "text/plain": [
       "<Figure size 640x480 with 1 Axes>"
      ]
     },
     "metadata": {},
     "output_type": "display_data"
    }
   ],
   "source": [
    "sns.barplot(data=df, x=\"Month\", y=\"streams\")"
   ]
  },
  {
   "cell_type": "code",
   "execution_count": 21,
   "metadata": {},
   "outputs": [
    {
     "data": {
      "text/plain": [
       "<seaborn.axisgrid.FacetGrid at 0x1d29096da90>"
      ]
     },
     "execution_count": 21,
     "metadata": {},
     "output_type": "execute_result"
    },
    {
     "data": {
      "image/png": "[encoded data removed]",
      "text/plain": [
       "<Figure size 500x500 with 1 Axes>"
      ]
     },
     "metadata": {},
     "output_type": "display_data"
    }
   ],
   "source": [
    "sns.catplot(data=df, y=\"ArtistName\", x=\"listeners\", kind='bar')"
   ]
  },
  {
   "cell_type": "code",
   "execution_count": 22,
   "metadata": {},
   "outputs": [
    {
     "data": {
      "text/plain": [
       "Country\n",
       "TW    3650\n",
       "NP    3650\n",
       "MY    3650\n",
       "PK    3650\n",
       "HK    3650\n",
       "      ... \n",
       "KM    1460\n",
       "FM    1460\n",
       "MH    1460\n",
       "KI    1460\n",
       "TV    1095\n",
       "Name: count, Length: 184, dtype: int64"
      ]
     },
     "execution_count": 22,
     "metadata": {},
     "output_type": "execute_result"
    }
   ],
   "source": [
    "df.Country.value_counts()"
   ]
  },
  {
   "cell_type": "code",
   "execution_count": null,
   "metadata": {},
   "outputs": [],
   "source": []
  }
 ],
 "metadata": {
  "kernelspec": {
   "display_name": "streamlitenv",
   "language": "python",
   "name": "python3"
  },
  "language_info": {
   "codemirror_mode": {
    "name": "ipython",
    "version": 3
   },
   "file_extension": ".py",
   "mimetype": "text/x-python",
   "name": "python",
   "nbconvert_exporter": "python",
   "pygments_lexer": "ipython3",
   "version": "3.9.16"
  },
  "orig_nbformat": 4
 },
 "nbformat": 4,
 "nbformat_minor": 2
}
